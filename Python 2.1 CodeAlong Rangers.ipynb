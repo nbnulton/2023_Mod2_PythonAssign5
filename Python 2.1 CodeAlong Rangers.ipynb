{
 "cells": [
  {
   "cell_type": "markdown",
   "metadata": {},
   "source": [
    "# Regular Expressions - Reg Ex - regex"
   ]
  },
  {
   "cell_type": "markdown",
   "metadata": {},
   "source": [
    "# Tasks today:\n",
    "1) <b>Importing</b> <br>\n",
    "2) <b>Using Regular Expressions</b> <br>\n",
    " &nbsp;&nbsp;&nbsp;&nbsp; a) re.compile() <br>\n",
    " &nbsp;&nbsp;&nbsp;&nbsp; b) re.match() <br>\n",
    " &nbsp;&nbsp;&nbsp;&nbsp; c) re.findall() <br>\n",
    " &nbsp;&nbsp;&nbsp;&nbsp; d) re.search() <br>\n",
    "3) <b>Sets</b> <br>\n",
    " &nbsp;&nbsp;&nbsp;&nbsp; a) Integer Ranges <br>\n",
    " &nbsp;&nbsp;&nbsp;&nbsp; b) Character Ranges <br>\n",
    "4) <b>Counting Occurences</b> <br>\n",
    " &nbsp;&nbsp;&nbsp;&nbsp; a) {x} <br>\n",
    " &nbsp;&nbsp;&nbsp;&nbsp; b) {, x} <br>\n",
    " &nbsp;&nbsp;&nbsp;&nbsp; c) {?} <br>\n",
    " &nbsp;&nbsp;&nbsp;&nbsp; d) {*} <br>\n",
    " &nbsp;&nbsp;&nbsp;&nbsp; e) {+} <br>\n",
    "5) <b>In-Class Exercise #1</b> <br>\n",
    "6) <b>Escaping Characters</b> <br>\n",
    "7) <b>Grouping</b> <br>\n",
    "8) <b>In-Class Exercise #2</b> <br>\n",
    "9) <b>Opening a File</b> <br>\n",
    " &nbsp;&nbsp;&nbsp;&nbsp; a) open() <br>\n",
    " &nbsp;&nbsp;&nbsp;&nbsp; b) with open() <br>\n",
    " &nbsp;&nbsp;&nbsp;&nbsp; c) re.match() <br>\n",
    " &nbsp;&nbsp;&nbsp;&nbsp; d) re.search() <br>\n",
    " &nbsp;&nbsp;&nbsp;&nbsp; e) Store the String in a Variable <br>\n",
    "10) <b>Regex Project</b> <br>"
   ]
  },
  {
   "cell_type": "markdown",
   "metadata": {},
   "source": [
    "### Importing <br>\n",
    "<p>Regular Expressions are universal throughout most programming languages... They are generally imported through the module 're'.</p>"
   ]
  },
  {
   "cell_type": "code",
   "execution_count": null,
   "metadata": {},
   "outputs": [],
   "source": [
    "# import re\n",
    "import re"
   ]
  },
  {
   "cell_type": "markdown",
   "metadata": {},
   "source": [
    "### Using Regular Expressions <br>\n",
    "<p>Regular expressions give us the ability to search for patterns within text, strings, files, etc. They serve several uses, such as; security measures, searching, filtering, pattern recognition, and more...</p>"
   ]
  },
  {
   "cell_type": "markdown",
   "metadata": {},
   "source": [
    "##### re.compile()"
   ]
  },
  {
   "cell_type": "code",
   "execution_count": 2,
   "metadata": {},
   "outputs": [
    {
     "name": "stdout",
     "output_type": "stream",
     "text": [
      "re.compile('abcd')\n"
     ]
    }
   ],
   "source": [
    "# using compile, pre determines the string to be used in regular expression methods\n",
    "\n",
    "import re\n",
    "\n",
    "pattern = re.compile(\"abcd\")\n",
    "print(pattern)"
   ]
  },
  {
   "cell_type": "markdown",
   "metadata": {},
   "source": [
    "##### re.match()"
   ]
  },
  {
   "cell_type": "code",
   "execution_count": 9,
   "metadata": {},
   "outputs": [
    {
     "name": "stdout",
     "output_type": "stream",
     "text": [
      "re.compile('abcd')\n",
      "<re.Match object; span=(0, 4), match='abcd'>\n",
      "(0, 4)\n",
      "<class 'tuple'>\n"
     ]
    }
   ],
   "source": [
    "# re.match searches only from beginning of string\n",
    "# NOTE RETURNS THEM AS A STRINGS THAT ARE ABOVE AND BELOW EACHOTHER LIKE \\N\n",
    "# NOTE USE GROUP() TO NOT RETURN A STRING\n",
    "\n",
    "import re\n",
    "\n",
    "pattern = re.compile(\"abcd\")\n",
    "\n",
    "print(pattern)\n",
    "\n",
    "# looking for what's in pattern abcd and seeing if it matches anything in pattern.match abcd123\n",
    "# looks through the compiled info in pattern, matches, and saves that in variable match\n",
    "match = pattern.match(\"abcd123\")\n",
    "\n",
    "print(match)\n",
    "\n",
    "# Accessing the span of the match\n",
    "\n",
    "print(match.span())\n",
    "print(type(match.span()))\n"
   ]
  },
  {
   "cell_type": "markdown",
   "metadata": {},
   "source": [
    "##### re.findall()"
   ]
  },
  {
   "cell_type": "code",
   "execution_count": 10,
   "metadata": {},
   "outputs": [
    {
     "name": "stdout",
     "output_type": "stream",
     "text": [
      "re.compile('abcd')\n",
      "<re.Match object; span=(0, 4), match='abcd'>\n",
      "(0, 4)\n",
      "<class 'tuple'>\n",
      "['abcd', 'abcd', 'abcd']\n"
     ]
    }
   ],
   "source": [
    "# re.findall finds all matching patterns\n",
    "# NOTE RETURNS THEM AS A LIST\n",
    "\n",
    "import re\n",
    "\n",
    "pattern = re.compile(\"abcd\")\n",
    "\n",
    "print(pattern)\n",
    "\n",
    "match = pattern.match(\"abcd123\")\n",
    "\n",
    "print(match)\n",
    "\n",
    "# Accessing the span of the match\n",
    "\n",
    "print(match.span())\n",
    "print(type(match.span()))\n",
    "\n",
    "# gives back the content that it finds\n",
    "finders = pattern.findall(\"123abcd abcd123 abcd abcabc acb\")\n",
    "print(finders)"
   ]
  },
  {
   "cell_type": "markdown",
   "metadata": {},
   "source": [
    "##### re.search()"
   ]
  },
  {
   "cell_type": "code",
   "execution_count": 13,
   "metadata": {},
   "outputs": [
    {
     "name": "stdout",
     "output_type": "stream",
     "text": [
      "re.compile('abcd')\n",
      "<re.Match object; span=(0, 4), match='abcd'>\n",
      "(0, 4)\n",
      "<class 'tuple'>\n",
      "['abcd', 'abcd', 'abcd']\n",
      "<re.Match object; span=(12, 16), match='abcd'>\n",
      "(12, 16)\n",
      "abcd\n"
     ]
    }
   ],
   "source": [
    "# re.search not only begins searching at the beginning of the string but also in the middle\n",
    "\n",
    "import re\n",
    "\n",
    "pattern = re.compile(\"abcd\")\n",
    "\n",
    "print(pattern)\n",
    "\n",
    "match = pattern.match(\"abcd123\")\n",
    "\n",
    "print(match)\n",
    "\n",
    "# Accessing the span of the match\n",
    "\n",
    "print(match.span())\n",
    "print(type(match.span()))\n",
    "\n",
    "# gives back the content that it finds\n",
    "finders = pattern.findall(\"123abcd abcd123 abcd abcabc acb\")\n",
    "print(finders)\n",
    "\n",
    "# span 12, 16 is abcd \n",
    "random_string = \"123 123 234 abcd abc\"\n",
    "\n",
    "search = pattern.search(random_string)\n",
    "print(search)\n",
    "span = search.span()\n",
    "print(span)\n",
    "\n",
    "# printing the portion that's span[0] which is 12 to span[1] which is 16\n",
    "# like saying print(random_string[12:16])\n",
    "print(random_string[span[0] : span[1]])"
   ]
  },
  {
   "cell_type": "markdown",
   "metadata": {},
   "source": [
    "### Sets <br>\n",
    "<p>The following cells will allow you to use regular expressions to search for certain values within a range such as numbers 1 through 4.</p>"
   ]
  },
  {
   "cell_type": "markdown",
   "metadata": {},
   "source": [
    "##### [a-z] or [A-Z] - any lowercase/uppercase letters from a to z<br/>[^2] - anything that's not 2"
   ]
  },
  {
   "cell_type": "markdown",
   "metadata": {},
   "source": [
    "##### Integer Ranges"
   ]
  },
  {
   "cell_type": "code",
   "execution_count": 5,
   "metadata": {},
   "outputs": [
    {
     "name": "stdout",
     "output_type": "stream",
     "text": [
      "<re.Match object; span=(0, 3), match='673'>\n",
      "673\n"
     ]
    }
   ],
   "source": [
    "import re\n",
    "\n",
    "# [] are ranges, [A-Z] is like typing [ABCD...], singular doesn't use braces (\"m\")\n",
    "# first character that we're searching for has to be 0-7, second number has to be 7-9, etc.\n",
    "pattern_int = re.compile(\"[0-7][7-9][0-3]\")\n",
    "\n",
    "# shows the span\n",
    "random_numbers = pattern_int.search(\"67383\")\n",
    "print(random_numbers)\n",
    "# span=(0, 1) is the 6, the first index and stops before 7 \n",
    "# <re.Match object; span=(0, 1), match='6'>\n",
    "\n",
    "\n",
    "# shows the actual number within the span which is 6\n",
    "span = random_numbers.span()\n",
    "print(random_numbers[span[0]])"
   ]
  },
  {
   "cell_type": "markdown",
   "metadata": {},
   "source": [
    "##### Character Ranges"
   ]
  },
  {
   "cell_type": "code",
   "execution_count": 6,
   "metadata": {},
   "outputs": [
    {
     "name": "stdout",
     "output_type": "stream",
     "text": [
      "['He', 'Mr', 'An']\n"
     ]
    }
   ],
   "source": [
    "import re\n",
    "\n",
    "char_pattern = re.compile(\"[A-Z][a-z]\")\n",
    "\n",
    "found = char_pattern.findall(\"Hello there Mr. Anderson\")\n",
    "print(found)"
   ]
  },
  {
   "cell_type": "markdown",
   "metadata": {},
   "source": [
    "### Counting Occurences"
   ]
  },
  {
   "cell_type": "markdown",
   "metadata": {},
   "source": [
    "##### {x} - something that occurs {num_of_times}"
   ]
  },
  {
   "cell_type": "code",
   "execution_count": 7,
   "metadata": {},
   "outputs": [
    {
     "name": "stdout",
     "output_type": "stream",
     "text": [
      "['An33']\n"
     ]
    }
   ],
   "source": [
    "import re\n",
    "\n",
    "# the {2} means that we'll have two things between 0-3, {} goes to the thing before it\n",
    "char_pattern_count = re.compile(\"[A-Z][a-z][0-3]{2}\")\n",
    "\n",
    "found_count = char_pattern_count.findall(\"Hello Mr. An33derson\")\n",
    "print(found_count)\n"
   ]
  },
  {
   "cell_type": "markdown",
   "metadata": {},
   "source": [
    "##### {x, x} - something that occurs between x and x times"
   ]
  },
  {
   "cell_type": "code",
   "execution_count": 9,
   "metadata": {},
   "outputs": [
    {
     "name": "stdout",
     "output_type": "stream",
     "text": [
      "['m', 'm', 'm', 'm', 'm', 'mmm', 'mmmmm']\n"
     ]
    }
   ],
   "source": [
    "import re\n",
    "\n",
    "# NOTE: not a range like [1-5], this is {} and a comma, NO SPACES BETWEEN 1, AND 5\n",
    "random_pattern = re.compile(\"m{1,5}\")\n",
    "random_statement = random_pattern.findall(\"This is an example of a regular expression trying to find one m, more than one m, more than one mmm or five mmmmms\")\n",
    "\n",
    "print(random_statement)\n"
   ]
  },
  {
   "cell_type": "markdown",
   "metadata": {},
   "source": [
    "##### ? - something that occurs 0 or 1 time"
   ]
  },
  {
   "cell_type": "code",
   "execution_count": 11,
   "metadata": {},
   "outputs": [
    {
     "name": "stdout",
     "output_type": "stream",
     "text": [
      "['Mrs', 'Mrss']\n"
     ]
    }
   ],
   "source": [
    "import re\n",
    "\n",
    "# the ? is for the second \"s\", goes to whatever's in front if it\n",
    "# the last \"s\" is optional because of the ?\n",
    "pattern = re.compile(\"Mrss?\")\n",
    "found_pat = pattern.findall(\"Hello M there Mr. Anderson, Mid how is Mrs. Anderson, and Mrss. Anderson\")\n",
    "print(found_pat)\n",
    "\n"
   ]
  },
  {
   "cell_type": "markdown",
   "metadata": {},
   "source": [
    "##### * - something that occurs at least 0 times"
   ]
  },
  {
   "cell_type": "code",
   "execution_count": 12,
   "metadata": {},
   "outputs": [
    {
     "name": "stdout",
     "output_type": "stream",
     "text": [
      "['MMMs', 's', 'Ms', 's', 's', 'Ms', 's', 's', 's', 's', 's', 's']\n"
     ]
    }
   ],
   "source": [
    "import re\n",
    "\n",
    "# * is for the M, saying happens AT LEAST 0 times, NOT 0 times\n",
    "pattern_m = re.compile(\"M*s\")\n",
    "found_m = pattern_m.findall(\"MMMs name is Ms. Smith. This is Msssssss\")\n",
    "print(found_m)\n"
   ]
  },
  {
   "cell_type": "markdown",
   "metadata": {},
   "source": [
    "##### + - something that occurs at least once"
   ]
  },
  {
   "cell_type": "code",
   "execution_count": 13,
   "metadata": {},
   "outputs": [
    {
     "name": "stdout",
     "output_type": "stream",
     "text": [
      "['MMMs', 'Ms', 'Ms']\n"
     ]
    }
   ],
   "source": [
    "import re\n",
    "\n",
    "# + is for the \"M\", has to happen AT LEAST once\n",
    "pattern_again = re.compile(\"M+s\")\n",
    "found_pattern = pattern_again.findall(\"MMMs name is Ms. Smith. This is Msssssss\")\n",
    "print(found_pattern)\n"
   ]
  },
  {
   "cell_type": "markdown",
   "metadata": {},
   "source": [
    "##### In-class exercise 1: \n",
    "\n",
    "Use a regular expression to find every number in the given string"
   ]
  },
  {
   "cell_type": "code",
   "execution_count": 80,
   "metadata": {},
   "outputs": [
    {
     "name": "stdout",
     "output_type": "stream",
     "text": [
      "['10909090', '1', '2']\n"
     ]
    }
   ],
   "source": [
    "import re\n",
    "\n",
    "my_string = re.compile(\"[1-2][0]?[9]?[0]?[9]?[0]?[9]?[0]?\")\n",
    "\n",
    "found_string = my_string.findall(\"This string has 10909090 numbers, but it is only 1 string. I hope you solve this 2day.\")\n",
    "\n",
    "print(found_string)\n",
    "\n",
    "# Output: [\"10909090\", \"1\", 2]"
   ]
  },
  {
   "cell_type": "markdown",
   "metadata": {},
   "source": [
    "### Escaping Characters"
   ]
  },
  {
   "cell_type": "markdown",
   "metadata": {},
   "source": [
    "##### \\w - look for any Unicode character<br/>\\W - look for anything that isnt a Unicode character\n",
    "\n",
    "[History on Unicode](http://unicode.org/standard/WhatIsUnicode.html)\n",
    "\n",
    "[More on Unicode Characters](https://en.wikipedia.org/wiki/List_of_Unicode_characters)"
   ]
  },
  {
   "cell_type": "code",
   "execution_count": 2,
   "metadata": {},
   "outputs": [
    {
     "name": "stdout",
     "output_type": "stream",
     "text": [
      "['This', 'is', 'a', 'sentence', 'With', 'exclamation', 'mark', 'at', 'the', 'end']\n",
      "[' ', ' ', ' ', '. ', ', ', ' ', ' ', ' ', ' ', '!']\n"
     ]
    }
   ],
   "source": [
    "import re\n",
    "\n",
    "# unicode, alphabetical letters or numbers\n",
    "pattern_1 = re.compile(\"[\\w]+\")\n",
    "\n",
    "# non-unicode, commas spaces exclamations periods\n",
    "pattern_2 = re.compile(\"[\\W]+\")\n",
    "\n",
    "found_1 = pattern_1.findall(\"This is a sentence. With, exclamation mark at the end!\")\n",
    "found_2 = pattern_2.findall(\"This is a sentence. With, exclamation mark at the end!\")\n",
    "\n",
    "print(found_1)\n",
    "print(found_2)\n"
   ]
  },
  {
   "cell_type": "markdown",
   "metadata": {},
   "source": [
    "##### \\d - look for any digit 0-9<br/>\\D - look for anything that isnt a digit"
   ]
  },
  {
   "cell_type": "code",
   "execution_count": 3,
   "metadata": {},
   "outputs": [
    {
     "name": "stdout",
     "output_type": "stream",
     "text": [
      "['7th', '20da', '27th', '3rd', '1st', '30th']\n"
     ]
    }
   ],
   "source": [
    "import re\n",
    "\n",
    "# \\d look for any digit 0-9, {1, 2} 1 or 2 times, any letter [a-z] 2 times\n",
    "pattern_nums = re.compile(\"\\d{1,2}[a-z]{2}\")\n",
    "\n",
    "found_date = pattern_nums.findall(\"Today is the 7th, in 20days it will be the 27th. 3rd, 1st,30th\")\n",
    "print(found_date)\n"
   ]
  },
  {
   "cell_type": "markdown",
   "metadata": {},
   "source": [
    "##### \\s - look for any white space<br/>\\S - look for anything that isnt whitespace"
   ]
  },
  {
   "cell_type": "code",
   "execution_count": 8,
   "metadata": {},
   "outputs": [
    {
     "name": "stdout",
     "output_type": "stream",
     "text": [
      "['Are', 'you', 'afraid', 'of', 'the', 'dark']\n",
      "[' ', ' ', ' ', ' ', ' ']\n"
     ]
    }
   ],
   "source": [
    "import re\n",
    "\n",
    "# looking for anything that isn't white space, a-z occurring at least once\n",
    "# if wanted the ? would need to add [\\W]* for anything that isn't a unicode character that occurs\n",
    "# at least zero times\n",
    "pattern_no_space = re.compile(\"\\S[a-z]+\")\n",
    "\n",
    "# looking for any whitespace that occurs at least once\n",
    "pattern_space = re.compile(\"\\s+\")\n",
    "\n",
    "found_dark = pattern_no_space.findall(\"Are you afraid of the dark?\")\n",
    "print(found_dark)\n",
    "\n",
    "found_space = pattern_space.findall(\"Are you afraid of the dark?\")\n",
    "print(found_space)\n",
    "\n"
   ]
  },
  {
   "cell_type": "markdown",
   "metadata": {},
   "source": [
    "##### \\b - look for boundaries or edges of a word<br/>\\B - look for anything that isnt a boundary"
   ]
  },
  {
   "cell_type": "code",
   "execution_count": 12,
   "metadata": {},
   "outputs": [
    {
     "name": "stdout",
     "output_type": "stream",
     "text": [
      "['TheCodingTemple']\n",
      "[]\n"
     ]
    }
   ],
   "source": [
    "import re\n",
    "\n",
    "# r is part of the regex, needed to work, built-in part of Python, sort of like using the f\",\n",
    "# keeps the string as a raw piece of text because if it was \\n with no r, it'll read it as a new line\n",
    "# the r imports the \\b as like a function instead of it being part of the string\n",
    "# boundary includes the entire word\n",
    "pattern_bound = re.compile(r\"\\bTheCodingTemple\\b\")\n",
    "\n",
    "# looking for no boundary, doesn't include the word\n",
    "pattern_bound_none = re.compile(r\"\\BTheCodingTemple\\B\")\n",
    "\n",
    "found_bound = pattern_bound.findall(\"TheCodingTemple\")\n",
    "print(found_bound)\n",
    "\n",
    "no_found_bound = pattern_bound_none.findall(\"TheCodingTemple\")\n",
    "print(no_found_bound)\n",
    "\n",
    "\n"
   ]
  },
  {
   "cell_type": "markdown",
   "metadata": {},
   "source": [
    "### Grouping"
   ]
  },
  {
   "cell_type": "code",
   "execution_count": 35,
   "metadata": {},
   "outputs": [
    {
     "name": "stdout",
     "output_type": "stream",
     "text": [
      "[('Max', 'Smith'), ('Sam', 'Darnold'), ('LeBron', 'James'), ('Michael', 'Jordan'), ('Kevin', 'Durant'), ('Patrick', 'McCormick')]\n",
      "('Max', 'Smith')\n",
      "Not a name\n",
      "('Sam', 'Darnold')\n",
      "('LeBron', 'James')\n",
      "('Michael', 'Jordan')\n",
      "('Kevin', 'Durant')\n",
      "('Patrick', 'McCormick')\n"
     ]
    }
   ],
   "source": [
    "# .group brings back the actual string instead of the re.match=whatever\n",
    "# group refers to the (\"([A-Z][a-zA-Za-z]+) ([A-Z][A-Za-z]+)\") where group 0 is the first set of () and group 1 is the next set of ()\n",
    "# NOTE USE WITH MATCH TO RETURN STRINGS\n",
    "\n",
    "import re\n",
    "\n",
    "my_string_again = \"Max Smith, aaron rodgers, Sam Darnold,LeBron James, Michael Jordan, Kevin Durant, Patrick McCormick\"\n",
    "\n",
    "# group of names Regex compiler\n",
    "\n",
    "# uppercase A-Z, then lowercase uppercase lowercase isolates the cCo in McCormick and + occurs at least once, SPACE,\n",
    "# the space and additional () brings back tuples: \n",
    "# tuples: the names separately with a comma space and () like this ('Max', 'Smith'), ('Sam', 'Darnold'),\n",
    "pattern_name = re.compile(\"([A-Z][a-zA-Za-z]+) ([A-Z][A-Za-z]+)\")\n",
    "\n",
    "found_names = pattern_name.findall(my_string_again)\n",
    "print(found_names)\n",
    "\n",
    "# splits strings up by commas and prints vertically, find name in my_string_again, match is search pattern_name compile for each\n",
    "# name, if it finds a match, group it by two, does not show aaron rodgers because there were no\n",
    "for name in my_string_again.split(\",\"):\n",
    "    match = pattern_name.search(name)\n",
    "\n",
    "#     called true-thy, like typing if match = True\n",
    "    if match:\n",
    "        print(match.groups(2))\n",
    "    else:\n",
    "        print(\"Not a name\")\n",
    "        \n",
    "        "
   ]
  },
  {
   "cell_type": "markdown",
   "metadata": {},
   "source": [
    "##### In-class Exercise 2:\n",
    "\n",
    "Write a function using regular expressions to find the domain name in the given email addresses (and return None for the invalid email addresses)<br><b>HINT: Use '|' for either or</b>"
   ]
  },
  {
   "cell_type": "code",
   "execution_count": 175,
   "metadata": {},
   "outputs": [
    {
     "name": "stdout",
     "output_type": "stream",
     "text": [
      "None\n",
      "pocohontas1776@gmail.com\n",
      "None\n",
      "yourfavoriteband@g6.org\n",
      "None\n"
     ]
    }
   ],
   "source": [
    "# You can also use the $ at the end of your compile expression -- this stops the search\n",
    "#.com OR .org => com|org\n",
    "\n",
    "#Expected output:\n",
    "#None\n",
    "#pocohontas1776@gmail.com\n",
    "#None\n",
    "#yourfavoriteband@g6.org\n",
    "#None\n",
    "\n",
    "\n",
    "import re\n",
    "\n",
    "my_emails = [\"jordanw@codingtemple.orgcom\", \"pocohontas1776@gmail.com\", \"helloworld@aol..com\", \"yourfavoriteband@g6.org\", \"@codingtemple.com\"]\n",
    "\n",
    "pattern_emails = \"[a-z0-9]+[@][a-z0-9]+[.][a-z]{3}$\"\n",
    "\n",
    "for email in my_emails:\n",
    "    match = re.match(pattern_emails, email)\n",
    "    if match:\n",
    "        print(match.group())\n",
    "    else:\n",
    "        print(\"None\")\n",
    "\n",
    "# found_emails = pattern_emails.findall(my_emails)\n",
    "# print(found_emails)\n",
    "\n",
    "\n",
    "\n",
    "\n"
   ]
  },
  {
   "cell_type": "markdown",
   "metadata": {},
   "source": [
    "### Opening a File <br>\n",
    "<p>Python gives us a couple ways to import files, below are the two used most often.</p>"
   ]
  },
  {
   "cell_type": "markdown",
   "metadata": {},
   "source": [
    "##### open()"
   ]
  },
  {
   "cell_type": "code",
   "execution_count": 179,
   "metadata": {},
   "outputs": [
    {
     "name": "stdout",
     "output_type": "stream",
     "text": [
      "Hawkins, Derek derek@codingtemple.com (555) 555-5555 Teacher, Coding Temple\n",
      "@derekhawkins Zhai, Mo mozhai@codingtemple.com (555) 555-5554 Teacher, Coding Temple\n",
      "Johnson, Joe joejohnson@codingtemple.com Johson, Joe Osterberg, Sven-Erik\n",
      "governor@norrbotten.co.se Governor, Norrbotten @sverik , Tim tim@killerrabbit.com\n",
      "Enchanter, Killer Rabbit Cave Butz, Ryan ryanb@codingtemple.com (555) 555-5543 CEO,\n",
      "Coding Temple @ryanbutz Doctor, The doctor+companion@tardis.co.uk Time Lord, Gallifrey\n",
      "Exampleson, Example me@example.com 555-555-5552 Example, Example Co. @example\n",
      "Pael, Ripal ripalp@codingtemple.com (555) 555-5553 Teacher, Coding Temple @ripalp Vader,\n",
      "Darth darth-vader@empire.gov (555) 555-4444 Sith Lord, Galactic Empire @darthvader\n",
      "Fernandez de la Vega Sanz, Maria Teresa mtfvs@spain.gov First Deputy Prime Minister,\n",
      "Spanish Gov\n"
     ]
    }
   ],
   "source": [
    "import re\n",
    "\n",
    "f = open(\"names.txt\")\n",
    "\n",
    "data = f.read()\n",
    "\n",
    "print(data)\n",
    "\n",
    "f.close()\n"
   ]
  },
  {
   "cell_type": "markdown",
   "metadata": {},
   "source": [
    "##### with open()"
   ]
  },
  {
   "cell_type": "code",
   "execution_count": 180,
   "metadata": {},
   "outputs": [
    {
     "name": "stdout",
     "output_type": "stream",
     "text": [
      "Hawkins, Derek derek@codingtemple.com (555) 555-5555 Teacher, Coding Temple\n",
      "@derekhawkins Zhai, Mo mozhai@codingtemple.com (555) 555-5554 Teacher, Coding Temple\n",
      "Johnson, Joe joejohnson@codingtemple.com Johson, Joe Osterberg, Sven-Erik\n",
      "governor@norrbotten.co.se Governor, Norrbotten @sverik , Tim tim@killerrabbit.com\n",
      "Enchanter, Killer Rabbit Cave Butz, Ryan ryanb@codingtemple.com (555) 555-5543 CEO,\n",
      "Coding Temple @ryanbutz Doctor, The doctor+companion@tardis.co.uk Time Lord, Gallifrey\n",
      "Exampleson, Example me@example.com 555-555-5552 Example, Example Co. @example\n",
      "Pael, Ripal ripalp@codingtemple.com (555) 555-5553 Teacher, Coding Temple @ripalp Vader,\n",
      "Darth darth-vader@empire.gov (555) 555-4444 Sith Lord, Galactic Empire @darthvader\n",
      "Fernandez de la Vega Sanz, Maria Teresa mtfvs@spain.gov First Deputy Prime Minister,\n",
      "Spanish Gov\n"
     ]
    }
   ],
   "source": [
    "import re\n",
    "\n",
    "with open(\"names.txt\") as f:\n",
    "    data = f.read()\n",
    "    print(data)"
   ]
  },
  {
   "cell_type": "markdown",
   "metadata": {},
   "source": [
    "##### re.match()"
   ]
  },
  {
   "cell_type": "code",
   "execution_count": 182,
   "metadata": {},
   "outputs": [
    {
     "name": "stdout",
     "output_type": "stream",
     "text": [
      "Hawkins, Derek derek@codingtemple.com (555) 555-5555 Teacher, Coding Temple\n",
      "@derekhawkins Zhai, Mo mozhai@codingtemple.com (555) 555-5554 Teacher, Coding Temple\n",
      "Johnson, Joe joejohnson@codingtemple.com Johson, Joe Osterberg, Sven-Erik\n",
      "governor@norrbotten.co.se Governor, Norrbotten @sverik , Tim tim@killerrabbit.com\n",
      "Enchanter, Killer Rabbit Cave Butz, Ryan ryanb@codingtemple.com (555) 555-5543 CEO,\n",
      "Coding Temple @ryanbutz Doctor, The doctor+companion@tardis.co.uk Time Lord, Gallifrey\n",
      "Exampleson, Example me@example.com 555-555-5552 Example, Example Co. @example\n",
      "Pael, Ripal ripalp@codingtemple.com (555) 555-5553 Teacher, Coding Temple @ripalp Vader,\n",
      "Darth darth-vader@empire.gov (555) 555-4444 Sith Lord, Galactic Empire @darthvader\n",
      "Fernandez de la Vega Sanz, Maria Teresa mtfvs@spain.gov First Deputy Prime Minister,\n",
      "Spanish Gov\n",
      "<re.Match object; span=(0, 14), match='Hawkins, Derek'>\n"
     ]
    }
   ],
   "source": [
    "import re\n",
    "\n",
    "with open(\"names.txt\") as f:\n",
    "    data = f.read()\n",
    "    print(data)\n",
    "\n",
    "print(re.match(r\"Hawkins, Derek\", data))"
   ]
  },
  {
   "cell_type": "markdown",
   "metadata": {},
   "source": [
    "##### re.search()"
   ]
  },
  {
   "cell_type": "code",
   "execution_count": 183,
   "metadata": {},
   "outputs": [
    {
     "name": "stdout",
     "output_type": "stream",
     "text": [
      "Hawkins, Derek derek@codingtemple.com (555) 555-5555 Teacher, Coding Temple\n",
      "@derekhawkins Zhai, Mo mozhai@codingtemple.com (555) 555-5554 Teacher, Coding Temple\n",
      "Johnson, Joe joejohnson@codingtemple.com Johson, Joe Osterberg, Sven-Erik\n",
      "governor@norrbotten.co.se Governor, Norrbotten @sverik , Tim tim@killerrabbit.com\n",
      "Enchanter, Killer Rabbit Cave Butz, Ryan ryanb@codingtemple.com (555) 555-5543 CEO,\n",
      "Coding Temple @ryanbutz Doctor, The doctor+companion@tardis.co.uk Time Lord, Gallifrey\n",
      "Exampleson, Example me@example.com 555-555-5552 Example, Example Co. @example\n",
      "Pael, Ripal ripalp@codingtemple.com (555) 555-5553 Teacher, Coding Temple @ripalp Vader,\n",
      "Darth darth-vader@empire.gov (555) 555-4444 Sith Lord, Galactic Empire @darthvader\n",
      "Fernandez de la Vega Sanz, Maria Teresa mtfvs@spain.gov First Deputy Prime Minister,\n",
      "Spanish Gov\n",
      "<re.Match object; span=(578, 601), match='ripalp@codingtemple.com'>\n"
     ]
    }
   ],
   "source": [
    "import re\n",
    "\n",
    "with open(\"names.txt\") as f:\n",
    "    data = f.read()\n",
    "    print(data)\n",
    "    \n",
    "print(re.search(r\"ripalp@codingtemple.com\", data))"
   ]
  },
  {
   "cell_type": "markdown",
   "metadata": {},
   "source": [
    "##### Store the String to a Variable"
   ]
  },
  {
   "cell_type": "code",
   "execution_count": 185,
   "metadata": {},
   "outputs": [
    {
     "name": "stdout",
     "output_type": "stream",
     "text": [
      "Hawkins, Derek derek@codingtemple.com (555) 555-5555 Teacher, Coding Temple\n",
      "@derekhawkins Zhai, Mo mozhai@codingtemple.com (555) 555-5554 Teacher, Coding Temple\n",
      "Johnson, Joe joejohnson@codingtemple.com Johson, Joe Osterberg, Sven-Erik\n",
      "governor@norrbotten.co.se Governor, Norrbotten @sverik , Tim tim@killerrabbit.com\n",
      "Enchanter, Killer Rabbit Cave Butz, Ryan ryanb@codingtemple.com (555) 555-5543 CEO,\n",
      "Coding Temple @ryanbutz Doctor, The doctor+companion@tardis.co.uk Time Lord, Gallifrey\n",
      "Exampleson, Example me@example.com 555-555-5552 Example, Example Co. @example\n",
      "Pael, Ripal ripalp@codingtemple.com (555) 555-5553 Teacher, Coding Temple @ripalp Vader,\n",
      "Darth darth-vader@empire.gov (555) 555-4444 Sith Lord, Galactic Empire @darthvader\n",
      "Fernandez de la Vega Sanz, Maria Teresa mtfvs@spain.gov First Deputy Prime Minister,\n",
      "Spanish Gov\n",
      "What would you like to search for? Sith Lord\n",
      "I found your data ['Sith Lord']\n"
     ]
    }
   ],
   "source": [
    "import re\n",
    "\n",
    "with open(\"names.txt\") as f:\n",
    "    data = f.read()\n",
    "    print(data)\n",
    "    \n",
    "answer = input(\"What would you like to search for? \")\n",
    "\n",
    "found = re.findall(answer, data)\n",
    "if found:\n",
    "    print(f\"I found your data {found}\")\n",
    "else:\n",
    "    print(\"Nothing here\")"
   ]
  },
  {
   "cell_type": "markdown",
   "metadata": {},
   "source": [
    "### In-Class Exercise #3 <br>\n",
    "<p>Print each persons name and twitter handle, using groups, should look like:</p>\n",
    "<p>==============<br>\n",
    "   Full Name / Twitter<br>\n",
    "   ==============</p>\n",
    "Derek Hawkins / @derekhawkins\n",
    "\n",
    " Erik Sven-Osterberg / @sverik\n",
    "\n",
    " Ryan Butz / @ryanbutz\n",
    "\n",
    " Example Exampleson / @example\n",
    "\n",
    " Ripal Pael / @ripalp\n",
    "\n",
    " Darth Vader / @darthvader"
   ]
  },
  {
   "cell_type": "code",
   "execution_count": 230,
   "metadata": {
    "scrolled": true
   },
   "outputs": [
    {
     "name": "stdout",
     "output_type": "stream",
     "text": [
      "===================\n",
      "Full Name / Twitter\n",
      "===================\n",
      "Derek Hawkins / ['@derekhawkins']\n",
      "Sven Osterberg / ['@sverik']\n",
      "Ryan Butz / ['@ryanbutz']\n",
      "Example Exampleson / ['@example']\n",
      "Ripal Pael / ['@ripalp']\n",
      "Darth Vader / ['@darthvader']\n"
     ]
    }
   ],
   "source": [
    "# Hint - use .group()\n",
    "\n",
    "\n",
    "import re\n",
    "\n",
    "data = open(\"names.txt\", \"r\").readlines()\n",
    "\n",
    "firstname = \"(^[A-Z][a-z]+[,][ ])([A-Z][a-z]+)\"\n",
    "lastname = \"[A-Z][a-z]+\"\n",
    "twittername = \"\\B@[a-z]+\"\n",
    "\n",
    "\n",
    "print(\"===================\\nFull Name / Twitter\\n===================\")\n",
    "    \n",
    "for name in data:\n",
    "    firstname1 = re.match(firstname, name)\n",
    "    lastname1 = re.match(lastname, name)\n",
    "    twittername1 = re.findall(twittername, name)\n",
    "    if firstname1:\n",
    "        print(f\"{firstname1.group(2)} {lastname1.group()} / {twittername1}\")\n",
    "    else:\n",
    "        pass\n",
    "        \n",
    "        \n"
   ]
  },
  {
   "cell_type": "markdown",
   "metadata": {},
   "source": [
    "### Regex project\n",
    "\n",
    "Use python to read the file regex_test.txt and print the last name on each line using regular expressions and groups (return None for names with no first and last name, or names that aren't properly capitalized)\n",
    "##### Hint: use with open() and readlines()"
   ]
  },
  {
   "cell_type": "code",
   "execution_count": 227,
   "metadata": {},
   "outputs": [
    {
     "name": "stdout",
     "output_type": "stream",
     "text": [
      "Abraham Lincoln\n",
      "Andrew P Garfield\n",
      "Connor Milliken\n",
      "Jordan Alexander Williams\n",
      "None\n",
      "None\n"
     ]
    }
   ],
   "source": [
    "# \"\"\"\n",
    "# Expected Output\n",
    "# Abraham Lincoln\n",
    "# Andrew P Garfield\n",
    "# Connor Milliken\n",
    "# Jordan Alexander Williams\n",
    "# None\n",
    "# None\n",
    "# \"\"\"\n",
    "\n",
    "import re\n",
    "\n",
    "data = open(\"regex_test.txt\", \"r\").readlines()\n",
    "    \n",
    "\n",
    "pattern_name = \"([A-Z][a-z]+[ ][A-Z][a-z]*[ ]*[A-Z]*[a-z]+)\"\n",
    "\n",
    "for name in data:\n",
    "    name1 = re.match(pattern_name, name)\n",
    "    if name1:\n",
    "        print(name1.group())\n",
    "    else:\n",
    "        print(\"None\")\n",
    "\n"
   ]
  },
  {
   "cell_type": "code",
   "execution_count": null,
   "metadata": {},
   "outputs": [],
   "source": []
  }
 ],
 "metadata": {
  "kernelspec": {
   "display_name": "Python 3 (ipykernel)",
   "language": "python",
   "name": "python3"
  },
  "language_info": {
   "codemirror_mode": {
    "name": "ipython",
    "version": 3
   },
   "file_extension": ".py",
   "mimetype": "text/x-python",
   "name": "python",
   "nbconvert_exporter": "python",
   "pygments_lexer": "ipython3",
   "version": "3.9.13"
  }
 },
 "nbformat": 4,
 "nbformat_minor": 2
}
